{
 "cells": [
  {
   "cell_type": "code",
   "execution_count": 1,
   "metadata": {},
   "outputs": [],
   "source": [
    "from zbta.api.api import APIConnector\n",
    "\n",
    "with open(\"../data/fiserv/415060515_AllData_single_file_nopii.json\", \"r\", encoding=\"utf8\") as hh:\n",
    "    payl = hh.read()\n"
   ]
  },
  {
   "cell_type": "code",
   "execution_count": 2,
   "metadata": {},
   "outputs": [
    {
     "name": "stderr",
     "output_type": "stream",
     "text": [
      "[INFO] [2023-01-05 14:11:20,610] [__init__] APIConnector instance created\n",
      "[DEBUG] [2023-01-05 14:11:20,611] [_validate_payload] validating payload...\n"
     ]
    }
   ],
   "source": [
    "con = APIConnector(payload=payl)"
   ]
  },
  {
   "cell_type": "code",
   "execution_count": 3,
   "metadata": {},
   "outputs": [
    {
     "name": "stderr",
     "output_type": "stream",
     "text": [
      "[INFO] [2023-01-05 14:11:20,653] [process_payload] processing payload...\n",
      "[INFO] [2023-01-05 14:11:20,934] [process_payload] processing payload...\n",
      "INFO:zbta.api.api:processing payload...\n"
     ]
    },
    {
     "name": "stdout",
     "output_type": "stream",
     "text": [
      "HERE\n"
     ]
    },
    {
     "name": "stderr",
     "output_type": "stream",
     "text": [
      "[INFO] [2023-01-05 14:11:21,193] [process_payload] processing payload...\n",
      "INFO:zbta.api.api:processing payload...\n"
     ]
    },
    {
     "name": "stdout",
     "output_type": "stream",
     "text": [
      "HERE\n"
     ]
    },
    {
     "name": "stderr",
     "output_type": "stream",
     "text": [
      "[INFO] [2023-01-05 14:11:21,477] [process_payload] processing payload...\n",
      "INFO:zbta.api.api:processing payload...\n"
     ]
    },
    {
     "name": "stdout",
     "output_type": "stream",
     "text": [
      "HERE\n"
     ]
    },
    {
     "name": "stderr",
     "output_type": "stream",
     "text": [
      "[INFO] [2023-01-05 14:11:21,750] [process_payload] processing payload...\n",
      "INFO:zbta.api.api:processing payload...\n"
     ]
    },
    {
     "name": "stdout",
     "output_type": "stream",
     "text": [
      "HERE\n"
     ]
    },
    {
     "name": "stderr",
     "output_type": "stream",
     "text": [
      "[INFO] [2023-01-05 14:11:22,016] [process_payload] processing payload...\n",
      "INFO:zbta.api.api:processing payload...\n"
     ]
    },
    {
     "name": "stdout",
     "output_type": "stream",
     "text": [
      "HERE\n"
     ]
    },
    {
     "name": "stderr",
     "output_type": "stream",
     "text": [
      "[INFO] [2023-01-05 14:11:22,279] [process_payload] processing payload...\n",
      "INFO:zbta.api.api:processing payload...\n"
     ]
    },
    {
     "name": "stdout",
     "output_type": "stream",
     "text": [
      "HERE\n"
     ]
    },
    {
     "name": "stderr",
     "output_type": "stream",
     "text": [
      "[INFO] [2023-01-05 14:11:22,549] [process_payload] processing payload...\n",
      "INFO:zbta.api.api:processing payload...\n"
     ]
    },
    {
     "name": "stdout",
     "output_type": "stream",
     "text": [
      "HERE\n",
      "HERE\n",
      "267 ms ± 8.48 ms per loop (mean ± std. dev. of 7 runs, 1 loop each)\n"
     ]
    }
   ],
   "source": [
    "%%timeit\n",
    "con.process_payload()"
   ]
  },
  {
   "cell_type": "code",
   "execution_count": 4,
   "metadata": {},
   "outputs": [
    {
     "data": {
      "text/plain": [
       "is_salary             0\n",
       "is_taxes              4\n",
       "is_benefit           37\n",
       "is_fee               14\n",
       "is_transfer         219\n",
       "is_cash              59\n",
       "is_investment        28\n",
       "is_obligation         3\n",
       "is_payday            18\n",
       "is_consumer_loan      0\n",
       "is_weekend            0\n",
       "is_internal           0\n",
       "is_salary_like        0\n",
       "dtype: int64"
      ]
     },
     "execution_count": 4,
     "metadata": {},
     "output_type": "execute_result"
    }
   ],
   "source": [
    "con.btanalyzer.dfs.filter(like=\"is_\").sum(axis=0)"
   ]
  },
  {
   "cell_type": "code",
   "execution_count": 5,
   "metadata": {},
   "outputs": [],
   "source": [
    "df = con.btanalyzer.dfs"
   ]
  },
  {
   "cell_type": "code",
   "execution_count": null,
   "metadata": {},
   "outputs": [],
   "source": []
  }
 ],
 "metadata": {
  "kernelspec": {
   "display_name": "venv",
   "language": "python",
   "name": "python3"
  },
  "language_info": {
   "codemirror_mode": {
    "name": "ipython",
    "version": 3
   },
   "file_extension": ".py",
   "mimetype": "text/x-python",
   "name": "python",
   "nbconvert_exporter": "python",
   "pygments_lexer": "ipython3",
   "version": "3.8.10"
  },
  "orig_nbformat": 4,
  "vscode": {
   "interpreter": {
    "hash": "90f21f9f3792621e96394129e9fd5431f20a16c93ad324ed02f4a32e65ca81de"
   }
  }
 },
 "nbformat": 4,
 "nbformat_minor": 2
}
